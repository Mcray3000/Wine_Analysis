{
 "cells": [
  {
   "cell_type": "markdown",
   "metadata": {},
   "source": [
    "# Wine Data Exploration\n",
    "\n",
    "Some initial exploratory tests\n"
   ]
  },
  {
   "cell_type": "code",
   "execution_count": 31,
   "metadata": {},
   "outputs": [
    {
     "data": {
      "text/plain": [
       "<duckdb.duckdb.DuckDBPyConnection at 0x111313e70>"
      ]
     },
     "execution_count": 31,
     "metadata": {},
     "output_type": "execute_result"
    }
   ],
   "source": [
    "import time\n",
    "import duckdb as dd\n",
    "import polars as pl\n",
    "import glob\n",
    "import os\n",
    "\n",
    "con = dd.connect()\n",
    "\n",
    "current_dir = os.getcwd()\n",
    "parquet_dir = os.path.join(current_dir, \"src\", \"*.parquet\")\n",
    "parquet_files = glob.glob(parquet_dir)\n",
    "\n",
    "parquet_path = \", \".join([f\"'{file}'\" for file in parquet_files])\n",
    "\n",
    "con.execute(f\"CREATE VIEW wine_data AS SELECT * FROM read_parquet([{parquet_path}])\")"
   ]
  },
  {
   "cell_type": "markdown",
   "metadata": {},
   "source": [
    "Some summary tables"
   ]
  },
  {
   "cell_type": "code",
   "execution_count": 32,
   "metadata": {},
   "outputs": [
    {
     "name": "stdout",
     "output_type": "stream",
     "text": [
      "┌───────┬───────┐\n",
      "│ high  │  low  │\n",
      "│ int64 │ int64 │\n",
      "├───────┼───────┤\n",
      "│   621 │   522 │\n",
      "└───────┴───────┘\n",
      "\n"
     ]
    }
   ],
   "source": [
    "# Get the N for each group of data High Quality, Low Quality\n",
    "con.sql(\"\"\"\n",
    "        WITH high_quality AS (\n",
    "                SELECT COUNT(*) AS high\n",
    "                FROM wine_data\n",
    "                WHERE quality > 5 \n",
    "        ), low_quality AS (\n",
    "                SELECT COUNT(*) AS low\n",
    "                FROM wine_data\n",
    "                WHERE quality <= 5 \n",
    "        )\n",
    "        SELECT high, low\n",
    "        FROM high_quality\n",
    "        CROSS JOIN low_quality\n",
    "        \"\"\").show()\n"
   ]
  },
  {
   "cell_type": "code",
   "execution_count": 3,
   "metadata": {},
   "outputs": [
    {
     "name": "stdout",
     "output_type": "stream",
     "text": [
      "┌───────────┬───────────┐\n",
      "│ amt_white │ amt_black │\n",
      "│   int64   │   int64   │\n",
      "├───────────┼───────────┤\n",
      "│   1923988 │   1889660 │\n",
      "└───────────┴───────────┘\n",
      "\n"
     ]
    }
   ],
   "source": [
    "# number of players\n",
    "con.sql(\"\"\"SELECT COUNT(DISTINCT White) AS amt_white, COUNT(DISTINCT Black) AS amt_black\n",
    "            FROM lichess_data\n",
    "            WHERE Opening ilike '%%' \n",
    "                AND Event NOT ilike '%bullet%'\n",
    "                AND UTCDateTime > '2020-10-25'\n",
    "            \"\"\").show()\n"
   ]
  },
  {
   "cell_type": "code",
   "execution_count": null,
   "metadata": {},
   "outputs": [],
   "source": [
    "# how did the games end?\n",
    "con.sql(\"\"\"\n",
    "        SELECT Termination, COUNT(*)\n",
    "        FROM lichess_data\n",
    "        GROUP BY Termination\n",
    "        ORDER BY COUNT(*) DESC\n",
    "        \"\"\").show()"
   ]
  },
  {
   "cell_type": "code",
   "execution_count": null,
   "metadata": {},
   "outputs": [],
   "source": [
    "# Types of games\n",
    "\n",
    "con.sql(\"\"\"\n",
    "        SELECT Event, COUNT(*)\n",
    "        FROM lichess_data\n",
    "        GROUP BY Event\n",
    "        ORDER BY COUNT(*) DESC\n",
    "        LIMIT 6\n",
    "        \"\"\").show()\n"
   ]
  },
  {
   "cell_type": "markdown",
   "metadata": {},
   "source": [
    "# Plots!"
   ]
  },
  {
   "cell_type": "code",
   "execution_count": 33,
   "metadata": {},
   "outputs": [
    {
     "name": "stdout",
     "output_type": "stream",
     "text": [
      "┌─────────┬─────────┐\n",
      "│ quality │ alcohol │\n",
      "│  int64  │ double  │\n",
      "├─────────┼─────────┤\n",
      "│       6 │     9.8 │\n",
      "│       7 │    10.0 │\n",
      "│       7 │     9.5 │\n",
      "│       7 │    10.5 │\n",
      "│       6 │     9.2 │\n",
      "│       6 │     9.7 │\n",
      "│       6 │     9.8 │\n",
      "│       6 │     9.6 │\n",
      "│       6 │    10.8 │\n",
      "│       7 │     9.7 │\n",
      "│       · │      ·  │\n",
      "│       · │      ·  │\n",
      "│       · │      ·  │\n",
      "│       6 │    11.3 │\n",
      "│       6 │    11.9 │\n",
      "│       7 │    11.6 │\n",
      "│       6 │    11.4 │\n",
      "│       6 │    10.9 │\n",
      "│       6 │    11.6 │\n",
      "│       6 │    11.6 │\n",
      "│       6 │    11.0 │\n",
      "│       6 │     9.5 │\n",
      "│       6 │    11.2 │\n",
      "├─────────┴─────────┤\n",
      "│     621 rows      │\n",
      "│    (20 shown)     │\n",
      "└───────────────────┘\n",
      "\n"
     ]
    },
    {
     "data": {
      "text/plain": [
       "<duckdb.duckdb.DuckDBPyConnection at 0x111313e70>"
      ]
     },
     "execution_count": 33,
     "metadata": {},
     "output_type": "execute_result"
    }
   ],
   "source": [
    "# create dataset for high quality wine \n",
    "query = \"\"\"\n",
    "    SELECT quality, alcohol\n",
    "    FROM wine_data\n",
    "    WHERE quality > 5 \n",
    "    \"\"\"\n",
    "    \n",
    "con.sql(query).show()\n",
    "\n",
    "folder_name = \"graphs\"\n",
    "\n",
    "file_path = os.path.join(folder_name, \"high_quality.csv\")\n",
    "\n",
    "con.execute(f\"COPY ({query}) TO '{file_path}' (HEADER, DELIMITER ',')\")\n"
   ]
  },
  {
   "cell_type": "code",
   "execution_count": 34,
   "metadata": {},
   "outputs": [
    {
     "data": {
      "text/plain": [
       "<duckdb.duckdb.DuckDBPyConnection at 0x111313e70>"
      ]
     },
     "execution_count": 34,
     "metadata": {},
     "output_type": "execute_result"
    }
   ],
   "source": [
    "# create dataset for low quality wine \n",
    "query = \"\"\"\n",
    "    SELECT quality, alcohol\n",
    "    FROM wine_data\n",
    "    WHERE quality <= 5 \n",
    "    \"\"\"\n",
    "\n",
    "folder_name = \"graphs\"\n",
    "\n",
    "file_path = os.path.join(folder_name, \"low_quality.csv\")\n",
    "\n",
    "con.execute(f\"COPY ({query}) TO '{file_path}' (HEADER, DELIMITER ',')\")\n"
   ]
  },
  {
   "cell_type": "code",
   "execution_count": null,
   "metadata": {},
   "outputs": [],
   "source": []
  },
  {
   "cell_type": "code",
   "execution_count": null,
   "metadata": {},
   "outputs": [],
   "source": []
  },
  {
   "cell_type": "code",
   "execution_count": null,
   "metadata": {},
   "outputs": [],
   "source": []
  },
  {
   "cell_type": "code",
   "execution_count": null,
   "metadata": {},
   "outputs": [],
   "source": []
  }
 ],
 "metadata": {
  "kernelspec": {
   "display_name": ".venv",
   "language": "python",
   "name": "python3"
  },
  "language_info": {
   "codemirror_mode": {
    "name": "ipython",
    "version": 3
   },
   "file_extension": ".py",
   "mimetype": "text/x-python",
   "name": "python",
   "nbconvert_exporter": "python",
   "pygments_lexer": "ipython3",
   "version": "3.13.2"
  }
 },
 "nbformat": 4,
 "nbformat_minor": 2
}
